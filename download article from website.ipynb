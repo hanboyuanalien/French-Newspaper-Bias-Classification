{
 "cells": [
  {
   "cell_type": "code",
   "execution_count": null,
   "metadata": {},
   "outputs": [],
   "source": [
    "import requests\n",
    "from bs4 import BeautifulSoup\n",
    "import pandas as pd\n",
    "import requests\n",
    "import csv\n",
    "from newspaper import Article"
   ]
  },
  {
   "cell_type": "code",
   "execution_count": null,
   "metadata": {},
   "outputs": [],
   "source": [
    "left_news = \"https://www.francetvinfo.fr/politique.rss\""
   ]
  },
  {
   "cell_type": "code",
   "execution_count": null,
   "metadata": {},
   "outputs": [],
   "source": [
    "itemleft = []\n",
    "for post in left_news:\n",
    "    resp_world_news = requests.get(post)\n",
    "    soup = BeautifulSoup(resp_world_news.content, features=\"xml\")\n",
    "    itemleft1 = soup.findAll('item')\n",
    "    for i in itemleft1:\n",
    "        if not i in itemleft:\n",
    "            itemleft.append(i)\n",
    "    itemleft = itemleft1+itemleft\n",
    "len(itemleft)"
   ]
  },
  {
   "cell_type": "code",
   "execution_count": null,
   "metadata": {},
   "outputs": [],
   "source": [
    "def job():\n",
    "    for post in left_news:\n",
    "        resp_world_news = requests.get(post)\n",
    "        soup = BeautifulSoup(resp_world_news.content, features=\"xml\")\n",
    "        itemleftnew = soup.findAll('item')\n",
    "    for i in itemleftnew:\n",
    "        if not i in itemleft:\n",
    "            itemleft.append(i)\n",
    "    news_links = []\n",
    "    for item in itemleft:\n",
    "        link = item.link.text\n",
    "        news_links.append(link)\n",
    "\n",
    "    news_lists = []\n",
    "    for x in range(1, len(itemleft)):\n",
    "        news_list = {}\n",
    "        news_list['label'] = 'left'\n",
    "        news_list['text'] = itemleft[x].title.text\n",
    "        news_list['link'] = itemleft[x].link.text\n",
    "        article = Article(news_links[x])\n",
    "        article.download()\n",
    "        article.parse()\n",
    "        article.nlp()\n",
    "        news_list['text'] = article.text\n",
    "        news_list['text'] = news_list['text'].replace('\\n', ' ') \n",
    "        news_lists.append(news_list)\n",
    "    df = pd.DataFrame(news_lists)\n",
    "    df.to_csv('111/left114.csv')\n",
    "    print(\"I'm working...\")"
   ]
  },
  {
   "cell_type": "code",
   "execution_count": null,
   "metadata": {},
   "outputs": [],
   "source": [
    "import threading \n",
    "import time\n",
    "timer = threading.Timer(1800,job)\n",
    "timer.start()\n",
    "while True:\n",
    "    time.sleep(1)"
   ]
  }
 ],
 "metadata": {
  "kernelspec": {
   "display_name": "Python 3",
   "language": "python",
   "name": "python3"
  },
  "language_info": {
   "codemirror_mode": {
    "name": "ipython",
    "version": 3
   },
   "file_extension": ".py",
   "mimetype": "text/x-python",
   "name": "python",
   "nbconvert_exporter": "python",
   "pygments_lexer": "ipython3",
   "version": "3.7.7"
  }
 },
 "nbformat": 4,
 "nbformat_minor": 4
}
